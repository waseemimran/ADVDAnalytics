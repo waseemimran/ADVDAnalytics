{
 "cells": [
  {
   "cell_type": "code",
   "execution_count": 1,
   "metadata": {},
   "outputs": [],
   "source": [
    "import pandas as pd"
   ]
  },
  {
   "cell_type": "code",
   "execution_count": 2,
   "metadata": {},
   "outputs": [
    {
     "data": {
      "text/html": [
       "<div>\n",
       "<style scoped>\n",
       "    .dataframe tbody tr th:only-of-type {\n",
       "        vertical-align: middle;\n",
       "    }\n",
       "\n",
       "    .dataframe tbody tr th {\n",
       "        vertical-align: top;\n",
       "    }\n",
       "\n",
       "    .dataframe thead th {\n",
       "        text-align: right;\n",
       "    }\n",
       "</style>\n",
       "<table border=\"1\" class=\"dataframe\">\n",
       "  <thead>\n",
       "    <tr style=\"text-align: right;\">\n",
       "      <th></th>\n",
       "      <th>Age</th>\n",
       "      <th>Sex</th>\n",
       "      <th>BP</th>\n",
       "      <th>Cholesterol</th>\n",
       "      <th>Na_to_K</th>\n",
       "      <th>Drug</th>\n",
       "    </tr>\n",
       "  </thead>\n",
       "  <tbody>\n",
       "    <tr>\n",
       "      <th>0</th>\n",
       "      <td>23</td>\n",
       "      <td>F</td>\n",
       "      <td>HIGH</td>\n",
       "      <td>HIGH</td>\n",
       "      <td>25.355</td>\n",
       "      <td>DrugY</td>\n",
       "    </tr>\n",
       "    <tr>\n",
       "      <th>1</th>\n",
       "      <td>47</td>\n",
       "      <td>M</td>\n",
       "      <td>LOW</td>\n",
       "      <td>HIGH</td>\n",
       "      <td>13.093</td>\n",
       "      <td>drugC</td>\n",
       "    </tr>\n",
       "    <tr>\n",
       "      <th>2</th>\n",
       "      <td>47</td>\n",
       "      <td>M</td>\n",
       "      <td>LOW</td>\n",
       "      <td>HIGH</td>\n",
       "      <td>10.114</td>\n",
       "      <td>drugC</td>\n",
       "    </tr>\n",
       "    <tr>\n",
       "      <th>3</th>\n",
       "      <td>28</td>\n",
       "      <td>F</td>\n",
       "      <td>NORMAL</td>\n",
       "      <td>HIGH</td>\n",
       "      <td>7.798</td>\n",
       "      <td>drugX</td>\n",
       "    </tr>\n",
       "    <tr>\n",
       "      <th>4</th>\n",
       "      <td>61</td>\n",
       "      <td>F</td>\n",
       "      <td>LOW</td>\n",
       "      <td>HIGH</td>\n",
       "      <td>18.043</td>\n",
       "      <td>DrugY</td>\n",
       "    </tr>\n",
       "  </tbody>\n",
       "</table>\n",
       "</div>"
      ],
      "text/plain": [
       "   Age Sex      BP Cholesterol  Na_to_K   Drug\n",
       "0   23   F    HIGH        HIGH   25.355  DrugY\n",
       "1   47   M     LOW        HIGH   13.093  drugC\n",
       "2   47   M     LOW        HIGH   10.114  drugC\n",
       "3   28   F  NORMAL        HIGH    7.798  drugX\n",
       "4   61   F     LOW        HIGH   18.043  DrugY"
      ]
     },
     "execution_count": 2,
     "metadata": {},
     "output_type": "execute_result"
    }
   ],
   "source": [
    "drug = pd.read_csv(\"drug.csv\")\n",
    "drug.head()"
   ]
  },
  {
   "cell_type": "code",
   "execution_count": 3,
   "metadata": {},
   "outputs": [
    {
     "name": "stdout",
     "output_type": "stream",
     "text": [
      "Imported v0.1.905. Please call AutoViz in this sequence:\n",
      "    AV = AutoViz_Class()\n",
      "    %matplotlib inline\n",
      "    dfte = AV.AutoViz(filename, sep=',', depVar='', dfte=None, header=0, verbose=1, lowess=False,\n",
      "               chart_format='svg',max_rows_analyzed=150000,max_cols_analyzed=30, save_plot_dir=None)\n",
      "Shape of your Data Set loaded: (200, 6)\n",
      "#######################################################################################\n",
      "######################## C L A S S I F Y I N G  V A R I A B L E S  ####################\n",
      "#######################################################################################\n",
      "Classifying variables in data set...\n",
      "    Number of Numeric Columns =  1\n",
      "    Number of Integer-Categorical Columns =  1\n",
      "    Number of String-Categorical Columns =  2\n",
      "    Number of Factor-Categorical Columns =  0\n",
      "    Number of String-Boolean Columns =  2\n",
      "    Number of Numeric-Boolean Columns =  0\n",
      "    Number of Discrete String Columns =  0\n",
      "    Number of NLP String Columns =  0\n",
      "    Number of Date Time Columns =  0\n",
      "    Number of ID Columns =  0\n",
      "    Number of Columns to Delete =  0\n",
      "    6 Predictors classified...\n",
      "        No variables removed since no ID or low-information variables found in data set\n",
      "To fix these data quality issues in the dataset, import FixDQ from autoviz...\n",
      "    All variables classified into correct types.\n"
     ]
    },
    {
     "data": {
      "text/html": [
       "<style type=\"text/css\">\n",
       "#T_bcb08_row0_col0, #T_bcb08_row0_col2, #T_bcb08_row0_col3, #T_bcb08_row0_col4, #T_bcb08_row0_col5, #T_bcb08_row1_col0, #T_bcb08_row1_col2, #T_bcb08_row1_col3, #T_bcb08_row1_col4, #T_bcb08_row1_col5, #T_bcb08_row2_col0, #T_bcb08_row2_col2, #T_bcb08_row2_col3, #T_bcb08_row2_col4, #T_bcb08_row2_col5, #T_bcb08_row3_col0, #T_bcb08_row3_col2, #T_bcb08_row3_col3, #T_bcb08_row3_col4, #T_bcb08_row3_col5, #T_bcb08_row4_col0, #T_bcb08_row4_col2, #T_bcb08_row4_col3, #T_bcb08_row4_col4, #T_bcb08_row4_col5, #T_bcb08_row5_col0, #T_bcb08_row5_col2, #T_bcb08_row5_col3, #T_bcb08_row5_col4, #T_bcb08_row5_col5 {\n",
       "  font-family: Segoe UI;\n",
       "}\n",
       "#T_bcb08_row0_col1, #T_bcb08_row1_col1, #T_bcb08_row2_col1, #T_bcb08_row3_col1, #T_bcb08_row4_col1, #T_bcb08_row5_col1 {\n",
       "  background-color: #fff5f0;\n",
       "  color: #000000;\n",
       "  font-family: Segoe UI;\n",
       "}\n",
       "</style>\n",
       "<table id=\"T_bcb08\">\n",
       "  <thead>\n",
       "    <tr>\n",
       "      <th class=\"blank level0\" >&nbsp;</th>\n",
       "      <th id=\"T_bcb08_level0_col0\" class=\"col_heading level0 col0\" >Data Type</th>\n",
       "      <th id=\"T_bcb08_level0_col1\" class=\"col_heading level0 col1\" >Missing Values%</th>\n",
       "      <th id=\"T_bcb08_level0_col2\" class=\"col_heading level0 col2\" >Unique Values%</th>\n",
       "      <th id=\"T_bcb08_level0_col3\" class=\"col_heading level0 col3\" >Minimum Value</th>\n",
       "      <th id=\"T_bcb08_level0_col4\" class=\"col_heading level0 col4\" >Maximum Value</th>\n",
       "      <th id=\"T_bcb08_level0_col5\" class=\"col_heading level0 col5\" >DQ Issue</th>\n",
       "    </tr>\n",
       "  </thead>\n",
       "  <tbody>\n",
       "    <tr>\n",
       "      <th id=\"T_bcb08_level0_row0\" class=\"row_heading level0 row0\" >Age</th>\n",
       "      <td id=\"T_bcb08_row0_col0\" class=\"data row0 col0\" >int64</td>\n",
       "      <td id=\"T_bcb08_row0_col1\" class=\"data row0 col1\" >0.000000</td>\n",
       "      <td id=\"T_bcb08_row0_col2\" class=\"data row0 col2\" >28</td>\n",
       "      <td id=\"T_bcb08_row0_col3\" class=\"data row0 col3\" >15.000000</td>\n",
       "      <td id=\"T_bcb08_row0_col4\" class=\"data row0 col4\" >74.000000</td>\n",
       "      <td id=\"T_bcb08_row0_col5\" class=\"data row0 col5\" >No issue</td>\n",
       "    </tr>\n",
       "    <tr>\n",
       "      <th id=\"T_bcb08_level0_row1\" class=\"row_heading level0 row1\" >Sex</th>\n",
       "      <td id=\"T_bcb08_row1_col0\" class=\"data row1 col0\" >object</td>\n",
       "      <td id=\"T_bcb08_row1_col1\" class=\"data row1 col1\" >0.000000</td>\n",
       "      <td id=\"T_bcb08_row1_col2\" class=\"data row1 col2\" >1</td>\n",
       "      <td id=\"T_bcb08_row1_col3\" class=\"data row1 col3\" ></td>\n",
       "      <td id=\"T_bcb08_row1_col4\" class=\"data row1 col4\" ></td>\n",
       "      <td id=\"T_bcb08_row1_col5\" class=\"data row1 col5\" >No issue</td>\n",
       "    </tr>\n",
       "    <tr>\n",
       "      <th id=\"T_bcb08_level0_row2\" class=\"row_heading level0 row2\" >BP</th>\n",
       "      <td id=\"T_bcb08_row2_col0\" class=\"data row2 col0\" >object</td>\n",
       "      <td id=\"T_bcb08_row2_col1\" class=\"data row2 col1\" >0.000000</td>\n",
       "      <td id=\"T_bcb08_row2_col2\" class=\"data row2 col2\" >1</td>\n",
       "      <td id=\"T_bcb08_row2_col3\" class=\"data row2 col3\" ></td>\n",
       "      <td id=\"T_bcb08_row2_col4\" class=\"data row2 col4\" ></td>\n",
       "      <td id=\"T_bcb08_row2_col5\" class=\"data row2 col5\" >No issue</td>\n",
       "    </tr>\n",
       "    <tr>\n",
       "      <th id=\"T_bcb08_level0_row3\" class=\"row_heading level0 row3\" >Cholesterol</th>\n",
       "      <td id=\"T_bcb08_row3_col0\" class=\"data row3 col0\" >object</td>\n",
       "      <td id=\"T_bcb08_row3_col1\" class=\"data row3 col1\" >0.000000</td>\n",
       "      <td id=\"T_bcb08_row3_col2\" class=\"data row3 col2\" >1</td>\n",
       "      <td id=\"T_bcb08_row3_col3\" class=\"data row3 col3\" ></td>\n",
       "      <td id=\"T_bcb08_row3_col4\" class=\"data row3 col4\" ></td>\n",
       "      <td id=\"T_bcb08_row3_col5\" class=\"data row3 col5\" >No issue</td>\n",
       "    </tr>\n",
       "    <tr>\n",
       "      <th id=\"T_bcb08_level0_row4\" class=\"row_heading level0 row4\" >Na_to_K</th>\n",
       "      <td id=\"T_bcb08_row4_col0\" class=\"data row4 col0\" >float64</td>\n",
       "      <td id=\"T_bcb08_row4_col1\" class=\"data row4 col1\" >0.000000</td>\n",
       "      <td id=\"T_bcb08_row4_col2\" class=\"data row4 col2\" >NA</td>\n",
       "      <td id=\"T_bcb08_row4_col3\" class=\"data row4 col3\" >6.269000</td>\n",
       "      <td id=\"T_bcb08_row4_col4\" class=\"data row4 col4\" >38.247000</td>\n",
       "      <td id=\"T_bcb08_row4_col5\" class=\"data row4 col5\" >Column has 8 outliers greater than upper bound (32.78) or lower than lower bound(-2.96). Cap them or remove them.</td>\n",
       "    </tr>\n",
       "    <tr>\n",
       "      <th id=\"T_bcb08_level0_row5\" class=\"row_heading level0 row5\" >Drug</th>\n",
       "      <td id=\"T_bcb08_row5_col0\" class=\"data row5 col0\" >object</td>\n",
       "      <td id=\"T_bcb08_row5_col1\" class=\"data row5 col1\" >0.000000</td>\n",
       "      <td id=\"T_bcb08_row5_col2\" class=\"data row5 col2\" >2</td>\n",
       "      <td id=\"T_bcb08_row5_col3\" class=\"data row5 col3\" ></td>\n",
       "      <td id=\"T_bcb08_row5_col4\" class=\"data row5 col4\" ></td>\n",
       "      <td id=\"T_bcb08_row5_col5\" class=\"data row5 col5\" >No issue</td>\n",
       "    </tr>\n",
       "  </tbody>\n",
       "</table>\n"
      ],
      "text/plain": [
       "<pandas.io.formats.style.Styler at 0x16820fdc0>"
      ]
     },
     "metadata": {},
     "output_type": "display_data"
    },
    {
     "name": "stdout",
     "output_type": "stream",
     "text": [
      "All Plots done\n",
      "Time to run AutoViz = 1 seconds \n",
      "\n",
      " ###################### AUTO VISUALIZATION Completed ########################\n"
     ]
    }
   ],
   "source": [
    "from autoviz.AutoViz_Class import AutoViz_Class\n",
    "AV = AutoViz_Class()\n",
    "drug_report = AV.AutoViz(\"drug.csv\")"
   ]
  },
  {
   "cell_type": "code",
   "execution_count": 4,
   "metadata": {},
   "outputs": [
    {
     "name": "stdout",
     "output_type": "stream",
     "text": [
      "Shape of your Data Set loaded: (200, 6)\n",
      "#######################################################################################\n",
      "######################## C L A S S I F Y I N G  V A R I A B L E S  ####################\n",
      "#######################################################################################\n",
      "Classifying variables in data set...\n",
      "    Number of Numeric Columns =  1\n",
      "    Number of Integer-Categorical Columns =  1\n",
      "    Number of String-Categorical Columns =  2\n",
      "    Number of Factor-Categorical Columns =  0\n",
      "    Number of String-Boolean Columns =  2\n",
      "    Number of Numeric-Boolean Columns =  0\n",
      "    Number of Discrete String Columns =  0\n",
      "    Number of NLP String Columns =  0\n",
      "    Number of Date Time Columns =  0\n",
      "    Number of ID Columns =  0\n",
      "    Number of Columns to Delete =  0\n",
      "    6 Predictors classified...\n",
      "        No variables removed since no ID or low-information variables found in data set\n",
      "Could not find given target var in data set. Please check input\n",
      "Not able to read or load file. Please check your inputs and try again... not enough values to unpack (expected 11, got 8)\n"
     ]
    }
   ],
   "source": [
    "report = AV.AutoViz(\"drug.csv\", chart_format=\"bokeh\", depVar=\"insurance\")"
   ]
  }
 ],
 "metadata": {
  "kernelspec": {
   "display_name": "Python 3",
   "language": "python",
   "name": "python3"
  },
  "language_info": {
   "codemirror_mode": {
    "name": "ipython",
    "version": 3
   },
   "file_extension": ".py",
   "mimetype": "text/x-python",
   "name": "python",
   "nbconvert_exporter": "python",
   "pygments_lexer": "ipython3",
   "version": "3.10.11"
  }
 },
 "nbformat": 4,
 "nbformat_minor": 2
}
